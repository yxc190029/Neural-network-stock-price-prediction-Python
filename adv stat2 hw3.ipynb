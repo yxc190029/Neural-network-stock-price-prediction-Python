{
 "cells": [
  {
   "cell_type": "code",
   "execution_count": 1,
   "metadata": {},
   "outputs": [
    {
     "name": "stdout",
     "output_type": "stream",
     "text": [
      "the probability for A wins is 0.608287796875\n"
     ]
    }
   ],
   "source": [
    "from math import comb\n",
    "import random\n",
    "import itertools as it \n",
    "from scipy.stats import binom\n",
    "acc = 0\n",
    "p = 0.55\n",
    "\n",
    "game4Awin =  binom.pmf(4,4,p)\n",
    "#in the last game, A must win, so we not do combination on it. \n",
    "game5Awin = binom.pmf(3,4,p)*p\n",
    "game6Awin = binom.pmf(3,5,p)* p\n",
    "game7Awin = binom.pmf(3,6,p) * p\n",
    "probability_A_win = game4Awin+game5Awin+game6Awin+game7Awin\n",
    "print(f'the probability for A wins is {probability_A_win}' )\n",
    "\n",
    "\n",
    "\n",
    "\n",
    "\n",
    "\n"
   ]
  },
  {
   "cell_type": "code",
   "execution_count": 2,
   "metadata": {},
   "outputs": [
    {
     "name": "stdout",
     "output_type": "stream",
     "text": [
      " the probability for A wins is 0.582\n"
     ]
    }
   ],
   "source": [
    "#simulation for part(a)\n",
    "\n",
    "def sim():\n",
    "    listP = []\n",
    "    n= 0\n",
    "    while len(listP) < 7:\n",
    "        result = random.choices([\"A\",\"B\"],weights =(0.55,0.45))\n",
    "        listP+= result\n",
    "        \n",
    "        if listP.count('A') ==4 or listP.count('B') == 4:\n",
    "            n += len(listP)\n",
    "            return listP\n",
    "            break\n",
    "\n",
    "listres =[sim() for i in range(500)]\n",
    "Awin = 0\n",
    "Bwin = 0\n",
    "for element in listres:\n",
    "        \n",
    "        if element.count('A') == 4: \n",
    "            Awin+=1\n",
    "        else:\n",
    "            Bwin+=1\n",
    "            \n",
    "P_A = Awin/(Awin+Bwin)\n",
    "print(f' the probability for A wins is {P_A}')"
   ]
  },
  {
   "cell_type": "code",
   "execution_count": 3,
   "metadata": {},
   "outputs": [
    {
     "name": "stdout",
     "output_type": "stream",
     "text": [
      "the expect_game are 5.7832684375\n"
     ]
    }
   ],
   "source": [
    "#part(b)\n",
    "\n",
    "p = 0.45\n",
    "game4Bwin =  binom.pmf(4,4,p)\n",
    "#in the last game, A must win, so we do not do combination on it. \n",
    "game5Bwin = binom.pmf(3,4,p)*p\n",
    "game6Bwin = binom.pmf(3,5,p)* p\n",
    "game7Bwin = binom.pmf(3,6,p) * p\n",
    "probability_B_win = game4Bwin+game5Bwin+game6Bwin+game7Bwin\n",
    "\n",
    "#expected game\n",
    "expect_game = 4*(game4Awin+game4Bwin)+5*(game5Awin+game5Bwin)+6*(game6Awin+game6Bwin)+7*(game7Awin+game7Bwin)\n",
    "print(f'the expect_game are {expect_game}')\n"
   ]
  },
  {
   "cell_type": "code",
   "execution_count": 4,
   "metadata": {},
   "outputs": [
    {
     "name": "stdout",
     "output_type": "stream",
     "text": [
      "expect number of  game is 5.846\n"
     ]
    }
   ],
   "source": [
    "#simulation for part(b)\n",
    "\n",
    "def sim():\n",
    "    listP = []\n",
    "    n= 0\n",
    "    while len(listP) < 7:\n",
    "        result = random.choices([\"A\",\"B\"],weights =(0.55,0.45))\n",
    "        listP+= result\n",
    "        \n",
    "        if listP.count('A') ==4 or listP.count('B') == 4:\n",
    "            n += len(listP)\n",
    "            return n\n",
    "            break\n",
    "            \n",
    "listresult =[sim() for i in range(500)]\n",
    "print(f'expect number of  game is {sum(listresult)/500}')"
   ]
  },
  {
   "cell_type": "code",
   "execution_count": 5,
   "metadata": {},
   "outputs": [],
   "source": [
    "#data prepare for part(c)\n",
    "def gameset(x,y):\n",
    "    #x = sample for A\n",
    "    #y = how many materials need to be placed\n",
    "    game5A = it.permutations(x,y)\n",
    "    y1 = set([i for i in game5A])\n",
    "    \n",
    "    y3 = [list(j) for j in y1]\n",
    "    #change the set to the list by list()\n",
    "    #put all the list in y3 list\n",
    "    \n",
    "    for i in y3:\n",
    "        i.append('A')\n",
    "    return y3\n",
    "    #add back the last result with winner\n",
    "    "
   ]
  },
  {
   "cell_type": "code",
   "execution_count": 12,
   "metadata": {},
   "outputs": [],
   "source": [
    "#data prepare for part(c)\n",
    "dict_best7 = {}\n",
    "\n",
    "dict_best7['game4'] = gameset(\"AAA\",3)\n",
    "\n",
    "dict_best7['game5'] = gameset(\"AAAB\",4)\n",
    "\n",
    "dict_best7['game6'] = gameset(\"AAABB\",5)\n",
    "\n",
    "dict_best7['game7']= gameset('AAABBB',6)\n"
   ]
  },
  {
   "cell_type": "code",
   "execution_count": 7,
   "metadata": {},
   "outputs": [
    {
     "name": "stdout",
     "output_type": "stream",
     "text": [
      "the expect game play for A wins is 6.4\n"
     ]
    }
   ],
   "source": [
    "#part(c)\n",
    "answer = 0\n",
    "for i in dict_best7.values():\n",
    "    #total numbers of game\n",
    "    answer += len(i)\n",
    "\n",
    "p =0.55\n",
    "expect_Awin_game = 4*len(dict_best7['game4'])/answer+5*len(dict_best7['game5'])/answer+\\\n",
    "6*len(dict_best7['game6'])/answer+7*len(dict_best7['game7'])/answer\n",
    "\n",
    "\n",
    "print(f'the expect game play for A wins is {expect_Awin_game}')\n",
    "\n",
    "\n"
   ]
  },
  {
   "cell_type": "code",
   "execution_count": 8,
   "metadata": {},
   "outputs": [
    {
     "data": {
      "text/plain": [
       "6.45"
      ]
     },
     "execution_count": 8,
     "metadata": {},
     "output_type": "execute_result"
    }
   ],
   "source": [
    "#Simulation for part(c)\n",
    "import numpy as np\n",
    "#put all A win's data in list\n",
    "Awinlist = []\n",
    "for i in range(4):\n",
    "    for j in range(len(list(dict_best7.values())[i])):\n",
    "        Awinlist.append(list(dict_best7.values())[i][j])\n",
    "sim_gameAwin = 0\n",
    "\n",
    "\n",
    "#simulation for 100 times\n",
    "for i in range(100):\n",
    "    T = np.random.randint(1,35)\n",
    "    sim_gameAwin+=len(Awinlist[T])\n",
    "    #print(sim_gameAwin)\n",
    "sim_gameAwin/100   \n",
    "\n"
   ]
  },
  {
   "cell_type": "code",
   "execution_count": 17,
   "metadata": {},
   "outputs": [],
   "source": [
    "#part(d)\n",
    "def expect_game(p1):\n",
    "    q= 1-p1\n",
    "    expect_g = 4*(binom.pmf(4,4,p1)+binom.pmf(4,4,q))\\\n",
    "                 +5*(binom.pmf(3,4,p1)*p1+binom.pmf(3,4,q)*q) +6*(binom.pmf(3,5,p1)*p1+binom.pmf(3,5,q)*q)\\\n",
    "                +7*(binom.pmf(3,6,p1)*p1+binom.pmf(3,6,q)*q)\n",
    "    return expect_g\n"
   ]
  },
  {
   "cell_type": "code",
   "execution_count": 16,
   "metadata": {},
   "outputs": [
    {
     "name": "stdout",
     "output_type": "stream",
     "text": [
      "the probability for team A is 0.785\n"
     ]
    }
   ],
   "source": [
    "#part(d)\n",
    "#p1 =0.784818718\n",
    "p1 = 0.5\n",
    "q= 1-p1\n",
    "listrun = [0,0]\n",
    "temp = expect_game(p1)\n",
    "listrun[0] = temp\n",
    "p1 =0.5001\n",
    "temp = expect_game(p1)\n",
    "listrun[1] = temp\n",
    "#try first step: +0.0001\n",
    "\n",
    "while  temp !=5:\n",
    "    temp = expect_game(p1)\n",
    "    listrun[0] = temp\n",
    "    #if on the right track: +0.0001\n",
    "    if abs(listrun[0]-5) < abs(listrun[1]-5) :\n",
    "        p1+=0.0001\n",
    "    else:\n",
    "        p1-=0.0001\n",
    "    temp = expect_game(p1)\n",
    "    listrun[1] = temp\n",
    "    temp = round(temp,3)\n",
    "\n",
    "\n",
    "\n",
    "print('the probability for team A is %s' %round(1-p1,3) )"
   ]
  },
  {
   "cell_type": "code",
   "execution_count": null,
   "metadata": {},
   "outputs": [],
   "source": []
  },
  {
   "cell_type": "code",
   "execution_count": null,
   "metadata": {},
   "outputs": [],
   "source": []
  }
 ],
 "metadata": {
  "kernelspec": {
   "display_name": "Python 3",
   "language": "python",
   "name": "python3"
  },
  "language_info": {
   "codemirror_mode": {
    "name": "ipython",
    "version": 3
   },
   "file_extension": ".py",
   "mimetype": "text/x-python",
   "name": "python",
   "nbconvert_exporter": "python",
   "pygments_lexer": "ipython3",
   "version": "3.8.0"
  }
 },
 "nbformat": 4,
 "nbformat_minor": 2
}
